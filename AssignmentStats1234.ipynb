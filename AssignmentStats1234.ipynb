{
 "cells": [
  {
   "cell_type": "markdown",
   "metadata": {},
   "source": [
    "# 2.1. Problem Statement: STATISTICS 1 "
   ]
  },
  {
   "cell_type": "markdown",
   "metadata": {},
   "source": [
    "### 1. You survey households in your area to find the average rent they are paying. Find the standard deviation from the following data:  \n",
    "\n",
    "\\\\$1550\\,\\\\$1700, \\\\$900, \\\\$850, \\\\$1000, \\\\$950."
   ]
  },
  {
   "cell_type": "markdown",
   "metadata": {},
   "source": [
    "###### Calculation using custom method"
   ]
  },
  {
   "cell_type": "code",
   "execution_count": 1,
   "metadata": {},
   "outputs": [
    {
     "name": "stdout",
     "output_type": "stream",
     "text": [
      "Mean =  1158.3333333333333\n",
      "Variance =  135416.6666666667\n",
      "Standard Deviation =  367.99003609699366\n"
     ]
    }
   ],
   "source": [
    "import math\n",
    "\n",
    "arr = [1550,1700,900,850,1000,950]\n",
    "\n",
    "\n",
    "# Calculate the Mean\n",
    "def find_mean(arr):\n",
    "    return sum(arr)/len(arr)\n",
    "\n",
    "mean = find_mean(arr)\n",
    "print(\"Mean = \",mean)\n",
    "\n",
    "\n",
    "# Calculate the Variance\n",
    "def find_variance(arr):\n",
    "    return sum((x - mean)**2 for x in arr) / (len(arr)-1)\n",
    "\n",
    "variance = find_variance(arr)\n",
    "print(\"Variance = \",variance)\n",
    "\n",
    "\n",
    "# Calculate the Standard Deviation\n",
    "def find_std_deviation(arr):\n",
    "    return math.sqrt(variance)\n",
    "\n",
    "std_deviation = find_std_deviation(arr)\n",
    "print(\"Standard Deviation = \",std_deviation)"
   ]
  },
  {
   "cell_type": "markdown",
   "metadata": {},
   "source": [
    "###### Calculation using statistics library"
   ]
  },
  {
   "cell_type": "code",
   "execution_count": 2,
   "metadata": {},
   "outputs": [
    {
     "name": "stdout",
     "output_type": "stream",
     "text": [
      "Mean = 1158.3333333333333\n",
      "Variance = 135416.66666666666\n",
      "Standard Deviation =  367.9900360969936\n"
     ]
    }
   ],
   "source": [
    "import statistics as stats\n",
    "\n",
    "# Calculate Mean\n",
    "mean = stats.mean(arr)\n",
    "print(\"Mean =\", mean)\n",
    "\n",
    "# Calculate Variance\n",
    "variance = stats.variance(arr)\n",
    "print(\"Variance =\", variance)\n",
    "\n",
    "# Calculate Standard Deviation\n",
    "std_deviation = stats.stdev(arr)\n",
    "print(\"Standard Deviation = \",std_deviation)"
   ]
  },
  {
   "cell_type": "markdown",
   "metadata": {},
   "source": [
    "### 2. Find the variance for the following set of data representing trees in California (heights in feet): \n",
    " \n",
    "3, 21, 98, 203, 17, 9 "
   ]
  },
  {
   "cell_type": "markdown",
   "metadata": {},
   "source": [
    "###### Calculation using custom method"
   ]
  },
  {
   "cell_type": "code",
   "execution_count": 3,
   "metadata": {},
   "outputs": [
    {
     "name": "stdout",
     "output_type": "stream",
     "text": [
      "Mean =  58.5\n",
      "Variance =  6219.9\n"
     ]
    }
   ],
   "source": [
    "import math\n",
    "\n",
    "arr = [3,21,98,203,17,9]\n",
    "\n",
    "# Calculate the Mean\n",
    "def find_mean(arr):\n",
    "    return sum(arr)/len(arr)\n",
    "\n",
    "mean = find_mean(arr)\n",
    "print(\"Mean = \",mean)\n",
    "\n",
    "\n",
    "# Calculate the Variance\n",
    "def find_variance(arr):\n",
    "    return sum((x - mean)**2 for x in arr) / (len(arr)-1)\n",
    "\n",
    "variance = find_variance(arr)\n",
    "print(\"Variance = \",variance)"
   ]
  },
  {
   "cell_type": "markdown",
   "metadata": {},
   "source": [
    "###### Calculation using statistics library"
   ]
  },
  {
   "cell_type": "code",
   "execution_count": 4,
   "metadata": {},
   "outputs": [
    {
     "name": "stdout",
     "output_type": "stream",
     "text": [
      "Mean = 58.5\n",
      "Variance = 6219.9\n"
     ]
    }
   ],
   "source": [
    "# Calculate Mean\n",
    "mean = stats.mean(arr)\n",
    "print(\"Mean =\", mean)\n",
    "\n",
    "# Calculate Variance\n",
    "variance = stats.variance(arr)\n",
    "print(\"Variance =\", variance)"
   ]
  },
  {
   "cell_type": "markdown",
   "metadata": {},
   "source": [
    "### 3. In a class on 100 students, 80 students passed in all subjects, 10 failed in one subject, 7 failed in two subjects and 3 failed in three subjects. Find the probability distribution of the variable for number of subjects a student from the given class has failed in. "
   ]
  },
  {
   "cell_type": "code",
   "execution_count": 5,
   "metadata": {},
   "outputs": [
    {
     "name": "stdout",
     "output_type": "stream",
     "text": [
      "Random variable is: [0, 1, 2, 3]\n",
      "Probability is: [0.8, 0.1, 0.07, 0.03]\n"
     ]
    }
   ],
   "source": [
    "#Random Variable\n",
    "X = [0,1,2,3]\n",
    "\n",
    "#Probability\n",
    "P = []\n",
    "\n",
    "Sample = [80,10,7,3]\n",
    "\n",
    "def calculate_prob(Sample):\n",
    "    for i in Sample:\n",
    "        P.append(i/sum(Sample))\n",
    "    return P\n",
    " \n",
    "    \n",
    "print(\"Random variable is:\", X)\n",
    "print(\"Probability is:\", calculate_prob(Sample))"
   ]
  },
  {
   "cell_type": "code",
   "execution_count": 6,
   "metadata": {},
   "outputs": [
    {
     "data": {
      "text/plain": [
       "Text(0.5, 1.0, 'Probalbility ditribution')"
      ]
     },
     "execution_count": 6,
     "metadata": {},
     "output_type": "execute_result"
    },
    {
     "data": {
      "image/png": "[encoded data removed]",
      "text/plain": [
       "<Figure size 432x288 with 1 Axes>"
      ]
     },
     "metadata": {
      "needs_background": "light"
     },
     "output_type": "display_data"
    }
   ],
   "source": [
    "import numpy as np\n",
    "import pandas as pd\n",
    "import matplotlib.pyplot as plt\n",
    "%matplotlib inline\n",
    "\n",
    "plt.bar(X,P)\n",
    "plt.xlabel('Number of subject Students failed in')\n",
    "plt.ylabel('Probability of Students failing in subjects')\n",
    "plt.title('Probalbility ditribution')"
   ]
  },
  {
   "cell_type": "markdown",
   "metadata": {},
   "source": [
    "# 2.2. Problem Statement: STATISTICS 2 "
   ]
  },
  {
   "cell_type": "markdown",
   "metadata": {},
   "source": [
    "### 1. A test is conducted which is consisting of 20 MCQs (multiple choices questions) with every MCQ having its four options out of which only one is correct. Determine the probability that a person undertaking that test has answered exactly 5 questions wrong."
   ]
  },
  {
   "cell_type": "markdown",
   "metadata": {},
   "source": [
    "###### Calculation using custom method"
   ]
  },
  {
   "cell_type": "code",
   "execution_count": 7,
   "metadata": {},
   "outputs": [
    {
     "name": "stdout",
     "output_type": "stream",
     "text": [
      "Probability is: 3.4264958230778575e-06\n"
     ]
    }
   ],
   "source": [
    "#Probability\n",
    "import math\n",
    "P =(math.factorial(20)/(math.factorial(20-5)*math.factorial(5))) * math.pow(1/4,15) * math.pow(3/4,5)\n",
    "print(\"Probability is:\", P)"
   ]
  },
  {
   "cell_type": "markdown",
   "metadata": {},
   "source": [
    "###### Calculation using statistics library"
   ]
  },
  {
   "cell_type": "code",
   "execution_count": 8,
   "metadata": {},
   "outputs": [
    {
     "name": "stdout",
     "output_type": "stream",
     "text": [
      "Probability is: 3.4264958230778435e-06\n"
     ]
    }
   ],
   "source": [
    "from scipy.stats import binom\n",
    "P = binom.pmf(5,20,0.75)\n",
    "print(\"Probability is:\", P)"
   ]
  },
  {
   "cell_type": "markdown",
   "metadata": {},
   "source": [
    "### 2. A die marked A to E is rolled 50 times. Find the probability of getting a “D” exactly 5 times. "
   ]
  },
  {
   "cell_type": "markdown",
   "metadata": {},
   "source": [
    "###### Calculation using custom method"
   ]
  },
  {
   "cell_type": "code",
   "execution_count": 9,
   "metadata": {},
   "outputs": [
    {
     "name": "stdout",
     "output_type": "stream",
     "text": [
      "Probability is: 0.029531204310524296\n"
     ]
    }
   ],
   "source": [
    "#Probability\n",
    "import math\n",
    "P1 = (math.factorial(50)/(math.factorial(50-5)*math.factorial(5))) * math.pow(1/5,5) * math.pow(4/5,45)\n",
    "print(\"Probability is:\", P1)"
   ]
  },
  {
   "cell_type": "markdown",
   "metadata": {},
   "source": [
    "###### Calculation using statistics library"
   ]
  },
  {
   "cell_type": "code",
   "execution_count": 10,
   "metadata": {},
   "outputs": [
    {
     "name": "stdout",
     "output_type": "stream",
     "text": [
      "Probability is: 0.029531204310523224\n"
     ]
    }
   ],
   "source": [
    "from scipy.stats import binom\n",
    "P1 = binom.pmf(5,50,0.2)\n",
    "print(\"Probability is:\", P1)"
   ]
  },
  {
   "cell_type": "markdown",
   "metadata": {},
   "source": [
    "### 3. Two balls are drawn at random in succession without replacement from an urn containing 4 red balls and 6 black balls. Find the probabilities of all the possible outcomes. "
   ]
  },
  {
   "cell_type": "code",
   "execution_count": 11,
   "metadata": {},
   "outputs": [
    {
     "name": "stdout",
     "output_type": "stream",
     "text": [
      "Probability of 2 red balls (RR)           :  0.13333333333333333\n",
      "Probability of 1 red and 1 black ball (RB):  0.26666666666666666\n",
      "Probability of 1 black and 1 red ball (BR):  0.26666666666666666\n",
      "Probability of 2 black balls (BB)         :  0.3333333333333333\n"
     ]
    }
   ],
   "source": [
    "#Probability of 2 red balls\n",
    "RR = (4/10)*(3/9)\n",
    "\n",
    "#Probability of 1 red and 1 black ball\n",
    "RB = (4/10)*(6/9)\n",
    "\n",
    "#Probability of 1 black and 1 red ball\n",
    "BR = (6/10)*(4/9)\n",
    "\n",
    "#Probability of 2 black balls\n",
    "BB = (6/10)*(5/9)\n",
    "\n",
    "\n",
    "print(\"Probability of 2 red balls (RR)           : \", RR )\n",
    "print(\"Probability of 1 red and 1 black ball (RB): \", RB )\n",
    "print(\"Probability of 1 black and 1 red ball (BR): \", BR )\n",
    "print(\"Probability of 2 black balls (BB)         : \", BB )"
   ]
  },
  {
   "cell_type": "markdown",
   "metadata": {},
   "source": [
    "# 2.3. Problem Statement: STATISTICS "
   ]
  },
  {
   "cell_type": "markdown",
   "metadata": {},
   "source": [
    "### 1. Blood glucose levels for obese patients have a mean of 100 with a standard deviation of  15. A researcher thinks that a diet high in raw cornstarch will have a positive effect on blood glucose levels. A sample of 36 patients who have tried the raw cornstarch diet have a mean glucose level of 108. Test the hypothesis that the raw cornstarch had an effect or not."
   ]
  },
  {
   "cell_type": "markdown",
   "metadata": {},
   "source": [
    "###### Step-1: State the hypotheses."
   ]
  },
  {
   "cell_type": "markdown",
   "metadata": {},
   "source": [
    "H0: μ = 100<br>\n",
    "Raw cornstarch diet has no effect on Blood Glucose level.\n",
    "    \n",
    "Ha: μ != 100<br>\n",
    "Raw cornstarch diet has effect on Blood Glucose level."
   ]
  },
  {
   "cell_type": "markdown",
   "metadata": {},
   "source": [
    "###### Step-2:Set up the significance level. It is not given in the problem so let’s assume it as 5% (0.05)"
   ]
  },
  {
   "cell_type": "markdown",
   "metadata": {},
   "source": [
    "###### step-3 : Claculate Z Score"
   ]
  },
  {
   "cell_type": "code",
   "execution_count": 12,
   "metadata": {},
   "outputs": [
    {
     "name": "stdout",
     "output_type": "stream",
     "text": [
      "z score: 3.2\n"
     ]
    }
   ],
   "source": [
    "import numpy as np\n",
    "import pandas as pd\n",
    "import matplotlib.pyplot as plt\n",
    "import math\n",
    "\n",
    "Population_Mean = 100\n",
    "Population_Std = 15\n",
    "Sample_Mean = 108\n",
    "N = 36\n",
    "\n",
    "z = (Sample_Mean - Population_Mean)/(Population_Std/math.sqrt(N))\n",
    "print(\"z score:\", z)"
   ]
  },
  {
   "cell_type": "markdown",
   "metadata": {},
   "source": [
    "###### step-4: Determine the probability using z-table"
   ]
  },
  {
   "cell_type": "markdown",
   "metadata": {},
   "source": [
    "by looking at z- table and p-value associated with 3.20 is 0.9993\n",
    "\n",
    "The probability of having value less than 108 is 0.9993 and more than or equals to 108 is (1-0.9993)=0.0007"
   ]
  },
  {
   "cell_type": "markdown",
   "metadata": {},
   "source": [
    "##### step-5: Accept or Reject the null hypothesis"
   ]
  },
  {
   "cell_type": "markdown",
   "metadata": {},
   "source": [
    "Since the probability of having mean glucose level more than or equals to 108  is 0.0007 which is  less than 0.05\n",
    "\n",
    "Therefore, we will reject the Null hypothesis i.e. there is raw cornstarch effect."
   ]
  },
  {
   "cell_type": "markdown",
   "metadata": {},
   "source": [
    "### 2. In one state, 52% of the voters are Republicans, and 48% are Democrats. In a second state, 47% of the voters are Republicans, and 53% are Democrats. Suppose a simple random sample of 100 voters are surveyed from each state. What is the probability that the survey will show a greater percentage of Republican voters in the second state than in the first state?"
   ]
  },
  {
   "cell_type": "markdown",
   "metadata": {},
   "source": [
    "###### Step-1: Finding the proportions"
   ]
  },
  {
   "cell_type": "markdown",
   "metadata": {},
   "source": [
    "Assume :-\n",
    "\n",
    "P1 = the proportion of Republican voters in the first state<br>\n",
    "P2 = the proportion of Republican voters in the second state<br>\n",
    "Q1 = the proportion of Democrat voters in the first state<br>\n",
    "Q2 = the proportion of Democrat voters in the Second state<br>\n",
    "p1 = the proportion of Republican voters in the sample from the first state<br>\n",
    "p2 = the proportion of Republican voters in the sample from the second state.<br>\n",
    "n1 = The number of voters sampled from the first state<br>\n",
    "n2 = The number of voters sampled from the second state<br>\n",
    "\n",
    "P1 = 0.52<br>\n",
    "P2 = 0.47<br>\n",
    "Q1 = 1-0.52 = 0.48<br>\n",
    "Q2 = 1-0.47 = 0.53<br>\n",
    "n1 = 100<br>\n",
    "n2 = 100<br>"
   ]
  },
  {
   "cell_type": "markdown",
   "metadata": {},
   "source": [
    "###### Step-2: Finding the mean and standard deviation"
   ]
  },
  {
   "cell_type": "code",
   "execution_count": 13,
   "metadata": {},
   "outputs": [
    {
     "name": "stdout",
     "output_type": "stream",
     "text": [
      "Mean :  0.050000000000000044\n",
      "Standard Deviation :  0.07061869440877536\n"
     ]
    }
   ],
   "source": [
    "P1 = 0.52\n",
    "P2 = 0.47\n",
    "Q1 = 0.48\n",
    "Q2 = 0.53\n",
    "n1 = 100\n",
    "n2 = 100\n",
    "\n",
    "\n",
    "#The mean of the difference in sample proportions .i.e Expected Value E[p1 -p2] = P1 - P2 = mu\n",
    "mu =  P1 - P2\n",
    "\n",
    "#The standard deviation of the difference (std)\n",
    "std = math.sqrt(((P1 * Q1 ) / n1) + ((P2 * Q2) /n2))\n",
    "\n",
    "print(\"Mean : \",mu)\n",
    "print(\"Standard Deviation : \",std)"
   ]
  },
  {
   "cell_type": "markdown",
   "metadata": {},
   "source": [
    "###### Step-3: Finding the z score"
   ]
  },
  {
   "cell_type": "code",
   "execution_count": 14,
   "metadata": {},
   "outputs": [
    {
     "name": "stdout",
     "output_type": "stream",
     "text": [
      "Z(p1,p2) :  -0.7080278164104213\n"
     ]
    }
   ],
   "source": [
    "#Find the probability that p1 is less than p2, \n",
    "#i.e. p1 - p2 < 0. \n",
    "#hence, x = 0\n",
    "#To find this probability, we need to transform the random variable (p1 - p2) into a z-score.\n",
    "\n",
    "\n",
    "Z_p1_p2 = ( 0 - mu)/std\n",
    "\n",
    "print(\"Z(p1,p2) : \",Z_p1_p2)"
   ]
  },
  {
   "cell_type": "markdown",
   "metadata": {},
   "source": [
    "###### Step-4: Determine the Probability using z-table"
   ]
  },
  {
   "cell_type": "markdown",
   "metadata": {},
   "source": [
    "by looking at z- table and p-value associated with -0.708 is 0.24.\n",
    "\n",
    "Therefore, the probability that the survey will show a greater percentage of Republican voters in the second state than in the first state is 0.24."
   ]
  },
  {
   "cell_type": "markdown",
   "metadata": {},
   "source": [
    "### 3. You take the SAT and score 1100. The mean score for the SAT is 1026 and the standard deviation is 209. How well did you score on the test compared to the average test taker? "
   ]
  },
  {
   "cell_type": "markdown",
   "metadata": {},
   "source": [
    "###### Step-1:Calculate the z-score"
   ]
  },
  {
   "cell_type": "code",
   "execution_count": 15,
   "metadata": {},
   "outputs": [
    {
     "name": "stdout",
     "output_type": "stream",
     "text": [
      "Z Score :  0.35406698564593303\n"
     ]
    }
   ],
   "source": [
    "#The z score tells you how many standard deviations from the mean your score is\n",
    "\n",
    "#Sample Mean\n",
    "x = 1100\n",
    "\n",
    "#Population Mean\n",
    "mu = 1026 \n",
    "\n",
    "#population standard deviation\n",
    "std = 209 \n",
    "\n",
    "z = ( x - mu)/std\n",
    "print(\"Z Score : \",z)"
   ]
  },
  {
   "cell_type": "markdown",
   "metadata": {},
   "source": [
    "Hence my score was .354 std deviations above the mean."
   ]
  },
  {
   "cell_type": "markdown",
   "metadata": {},
   "source": [
    "###### Step-2:Find the p-value"
   ]
  },
  {
   "cell_type": "markdown",
   "metadata": {},
   "source": [
    "by looking at z- table and p-value associated with 0.354 is 0.6368."
   ]
  },
  {
   "cell_type": "markdown",
   "metadata": {},
   "source": [
    "###### Step-3:Result"
   ]
  },
  {
   "cell_type": "markdown",
   "metadata": {},
   "source": [
    "what percentage of test-takers scored below me?\n",
    "\n",
    "P(x<1100)=P(z<0.354)=0.6368=63.68%\n",
    "\n",
    "Hence, 63.68% test takers have scored below me.\n",
    "\n",
    "*************************************************\n",
    "\n",
    "What percentage of test-takers scored above me?\n",
    "\n",
    "P(x>1100)=P(z>0.354)=1-P(z<0.354)=1- 0.6368=0.3662=36.62%\n",
    "\n",
    "Thus 36.62% of test-takers scored above me."
   ]
  },
  {
   "cell_type": "markdown",
   "metadata": {},
   "source": [
    "# 2.4. Problem Statement: STATISTICS 4"
   ]
  },
  {
   "cell_type": "markdown",
   "metadata": {},
   "source": [
    "### 1. Is gender independent of education level? A random sample of 395 people were surveyed and each person was asked to report the highest education level they obtained. The data that resulted from the survey is summarized in the following table: "
   ]
  },
  {
   "cell_type": "raw",
   "metadata": {},
   "source": [
    "         High-School    Bachelor         Masters    Ph.D.   Total  \n",
    "Female      60             54              46        41      201   \n",
    "Male        40             44              53        57      194\n",
    "Total       100            98              99        98      395"
   ]
  },
  {
   "cell_type": "markdown",
   "metadata": {},
   "source": [
    "### Question: Are gender and education level dependent at 5% level of significance? In other words, given the data collected above, is there a relationship between the gender of an individual and the level of education that they have obtained? "
   ]
  },
  {
   "cell_type": "markdown",
   "metadata": {},
   "source": [
    "##### We are going to perform chi-square independence test"
   ]
  },
  {
   "cell_type": "markdown",
   "metadata": {},
   "source": [
    "###### Step-1: State the null hypothesis"
   ]
  },
  {
   "cell_type": "markdown",
   "metadata": {},
   "source": [
    "H0 = Gender and level of education are independent\n",
    "\n",
    "Ha = Gender and level of education are dependent"
   ]
  },
  {
   "cell_type": "markdown",
   "metadata": {},
   "source": [
    "###### Step-2:Determine the confidence interval"
   ]
  },
  {
   "cell_type": "markdown",
   "metadata": {},
   "source": [
    "At 5% level of significance, the confidence level is 95%."
   ]
  },
  {
   "cell_type": "markdown",
   "metadata": {},
   "source": [
    "###### Step-3: Find the critical value"
   ]
  },
  {
   "cell_type": "code",
   "execution_count": 16,
   "metadata": {},
   "outputs": [
    {
     "data": {
      "text/plain": [
       "7.814727903251179"
      ]
     },
     "execution_count": 16,
     "metadata": {},
     "output_type": "execute_result"
    }
   ],
   "source": [
    "import scipy\n",
    "from scipy import stats\n",
    "\n",
    "#degree of freedom\n",
    "df = 4 -1\n",
    "df\n",
    "\n",
    "#Find the critical value\n",
    "stats.chi2.ppf(0.95,df)"
   ]
  },
  {
   "cell_type": "markdown",
   "metadata": {},
   "source": [
    "###### Step-4: setup the decision rule"
   ]
  },
  {
   "cell_type": "markdown",
   "metadata": {},
   "source": [
    "Using the chi suqare statistic and a 5% level of significance. Reject H0 if stat > 7.81."
   ]
  },
  {
   "cell_type": "markdown",
   "metadata": {},
   "source": [
    "###### Step-5: Find the stats"
   ]
  },
  {
   "cell_type": "code",
   "execution_count": 17,
   "metadata": {},
   "outputs": [
    {
     "name": "stdout",
     "output_type": "stream",
     "text": [
      "Contingency table: [[60, 54, 46, 41], [40, 44, 53, 57]] \n",
      "\n",
      "test stat: 8.006066246262538 \n",
      "\n",
      "p value: 0.045886500891747214 \n",
      "\n",
      "degree of freedom: 3 \n",
      "\n",
      "expected value:\n",
      " [[50.88607595 49.86835443 50.37721519 49.86835443]\n",
      " [49.11392405 48.13164557 48.62278481 48.13164557]] \n",
      "\n"
     ]
    }
   ],
   "source": [
    "from scipy import stats\n",
    "\n",
    "#Contingency table\n",
    "table = [[60, 54, 46, 41],[40, 44, 53, 57]]\n",
    "print(\"Contingency table:\", table,'\\n')\n",
    "\n",
    "stat, p, dof, expected = stats.chi2_contingency(table)\n",
    "print(\"test stat:\", stat,'\\n')\n",
    "print(\"p value:\", p,'\\n')\n",
    "print(\"degree of freedom:\", dof,'\\n')\n",
    "print(\"expected value:\\n\", expected,'\\n')"
   ]
  },
  {
   "cell_type": "markdown",
   "metadata": {},
   "source": [
    "###### Step-6: Conclusion"
   ]
  },
  {
   "cell_type": "markdown",
   "metadata": {},
   "source": [
    "The critical value of  with 3 degree of freedom is 7.815. Since 8.006 > 7.815, therefore we reject the null hypothesis.\n",
    "\n",
    "We may conclude that the education level depends on gender at a 5% level of significance."
   ]
  },
  {
   "cell_type": "markdown",
   "metadata": {},
   "source": [
    "### 2. Using the following data, perform a one-way analysis of variance using α=.05. Write up the results in APA format. \n",
    " \n",
    "[Group1: 51, 45, 33, 45, 67]  \n",
    "[Group2: 23, 43, 23, 43, 45]  \n",
    "[Group3: 56, 76, 74, 87, 56] "
   ]
  },
  {
   "cell_type": "markdown",
   "metadata": {},
   "source": [
    "###### Step-1: State the hypothesis"
   ]
  },
  {
   "cell_type": "markdown",
   "metadata": {},
   "source": [
    "H0: μ1 = μ2 = μ3\n",
    "    \n",
    "Ha: μ1 != μ2 != μ3 "
   ]
  },
  {
   "cell_type": "markdown",
   "metadata": {},
   "source": [
    "###### Step-2: Find the F value"
   ]
  },
  {
   "cell_type": "markdown",
   "metadata": {},
   "source": [
    "Using Custom Method"
   ]
  },
  {
   "cell_type": "code",
   "execution_count": 18,
   "metadata": {},
   "outputs": [
    {
     "name": "stdout",
     "output_type": "stream",
     "text": [
      "DFwithin: 12\n",
      "DFbetween: 2\n",
      "--------------------------------------------------\n",
      "mean1 48.2\n",
      "mean2 35.4\n",
      "mean3 69.8\n",
      "total_mean 51.133333333333326\n",
      "--------------------------------------------------\n",
      "SSW: 1860.8\n",
      "MSW: 155.06666666666666\n",
      "--------------------------------------------------\n",
      "SSB: 3022.933333333333\n",
      "MSB: 1511.4666666666665\n",
      "--------------------------------------------------\n",
      "fvalue: 9.747205503009457\n",
      "η2: 0.61898001528885\n"
     ]
    }
   ],
   "source": [
    "Group1= [51, 45, 33, 45, 67]\n",
    "Group2= [23, 43, 23, 43, 45]\n",
    "Group3= [56, 76, 74, 87, 56]\n",
    "\n",
    "#Degree of freedom\n",
    "\n",
    "k = 3\n",
    "N = 15\n",
    "\n",
    "#Withing the group\n",
    "DFwithin = N - k\n",
    "print(\"DFwithin:\", DFwithin)\n",
    "\n",
    "#Between the group\n",
    "DFbetween = k - 1\n",
    "print(\"DFbetween:\", DFbetween)\n",
    "\n",
    "print('-'*50)\n",
    "\n",
    "#Calculate mean of 3 groups\n",
    "\n",
    "mean1 = np.mean(Group1)\n",
    "print(\"mean1\", mean1)\n",
    "mean2 = np.mean(Group2)\n",
    "print(\"mean2\", mean2)\n",
    "mean3 = np.mean(Group3)\n",
    "print(\"mean3\", mean3)\n",
    "\n",
    "total_mean = (mean1+mean2+mean3)/3\n",
    "print(\"total_mean\", total_mean)\n",
    "\n",
    "print('-'*50)\n",
    "\n",
    "# sum of squares within groups\n",
    "SSW = sum(((xi-mean1)**2) for xi in Group1) + sum(((xi-mean2)**2) for xi in Group2) + sum(((xi-mean3)**2) for xi in Group3)\n",
    "print(\"SSW:\",SSW)\n",
    "\n",
    "# Mean squares within groups\n",
    "MSW = SSW/DFwithin\n",
    "print(\"MSW:\",MSW)\n",
    "\n",
    "print('-'*50)\n",
    "\n",
    "#  sum of squares between groups\n",
    "SSB = (((mean1-total_mean)**2) + ((mean2-total_mean)**2) + ((mean3-total_mean)**2))*5\n",
    "print(\"SSB:\",SSB)\n",
    "\n",
    "# Mean squares between groups\n",
    "MSB = SSB/DFbetween\n",
    "print(\"MSB:\",MSB)\n",
    "\n",
    "print('-'*50)\n",
    "\n",
    "# F Stat\n",
    "F = MSB/MSW\n",
    "print(\"fvalue:\",F)\n",
    "\n",
    "#Effect Size \n",
    "η2=SSB/(SSB+SSW)\n",
    "print(\"η2:\",η2)"
   ]
  },
  {
   "cell_type": "markdown",
   "metadata": {},
   "source": [
    "Canculate using statitics library"
   ]
  },
  {
   "cell_type": "code",
   "execution_count": 19,
   "metadata": {},
   "outputs": [
    {
     "name": "stdout",
     "output_type": "stream",
     "text": [
      "fvalue: 9.747205503009463\n",
      "pvalue: 0.0030597541434430556\n",
      "\n",
      "anova_table\n",
      " -------------------------------------------------- \n",
      "                  df       sum_sq      mean_sq         F   PR(>F)\n",
      "C(treatments)   2.0  3022.933333  1511.466667  9.747206  0.00306\n",
      "Residual       12.0  1860.800000   155.066667       NaN      NaN\n"
     ]
    }
   ],
   "source": [
    "import numpy as np\n",
    "import pandas as pd\n",
    "import scipy.stats as stats\n",
    "\n",
    "fvalue, pvalue = stats.f_oneway(Group1, Group2, Group3)\n",
    "print(\"fvalue:\", fvalue)\n",
    "print(\"pvalue:\", pvalue)\n",
    "\n",
    "#Generate Anova table\n",
    "#convert the data into DataFrame\n",
    "import numpy as np\n",
    "import pandas as pd\n",
    "data = {'Group1':[51, 45, 33, 45, 67],'Group2':[23, 43, 23, 43, 45],'Group3':[56, 76, 74, 87, 56]}\n",
    "df = pd.DataFrame(data,columns=['Group1','Group2','Group3'])\n",
    "df\n",
    "\n",
    "#import statsmodel\n",
    "import statsmodels.api as sm\n",
    "from statsmodels.formula.api import ols\n",
    "\n",
    "# reshape the dataframe suitable for statsmodels package \n",
    "d_melt = pd.melt(df.reset_index(), id_vars=['index'], value_vars=['Group1', 'Group2', 'Group3'])\n",
    "d_melt\n",
    "\n",
    "#replace the column names\n",
    "d_melt.columns = ['index', 'treatments', 'value']\n",
    "\n",
    "# Ordinary Least Squares (OLS) model\n",
    "model = ols('value ~ C(treatments)', data=d_melt).fit()\n",
    "anova_table = sm.stats.anova_lm(model, typ=1)\n",
    "print(\"\\nanova_table\\n\",\"-\"*50,\"\\n\",anova_table)"
   ]
  },
  {
   "cell_type": "markdown",
   "metadata": {},
   "source": [
    "###### Step-3:Find F critical value from F distribution table"
   ]
  },
  {
   "cell_type": "markdown",
   "metadata": {},
   "source": [
    "From the table of F distribution, the critical value of F for 0.05 significance and degrees of freedom of(df1 = 12 and df2 = 2) is:\n",
    "\n",
    "Fc = 3.89"
   ]
  },
  {
   "cell_type": "markdown",
   "metadata": {},
   "source": [
    "###### Step-4:Conclusion"
   ]
  },
  {
   "cell_type": "markdown",
   "metadata": {},
   "source": [
    "Since the calculated(absolute value) of F is greater than the critical value, we reject the null hypothesis and conclude that at least two of the means are significantly different from each other."
   ]
  },
  {
   "cell_type": "markdown",
   "metadata": {},
   "source": [
    "###### Step-5: Result in APA format"
   ]
  },
  {
   "cell_type": "markdown",
   "metadata": {},
   "source": [
    "F(2, 12)=9.75, p <0.05, η2=0.62"
   ]
  },
  {
   "cell_type": "markdown",
   "metadata": {},
   "source": [
    "### 3. Calculate F Test for given 10,20,30,40,50 and 5,10,15, 20, 25. "
   ]
  },
  {
   "cell_type": "markdown",
   "metadata": {},
   "source": [
    "##### We will Conduct a two tailed F Test for given data"
   ]
  },
  {
   "cell_type": "markdown",
   "metadata": {},
   "source": [
    "###### Step-1: State the hypothesis"
   ]
  },
  {
   "cell_type": "markdown",
   "metadata": {},
   "source": [
    "H0: No significant difference in variances.\n",
    "    \n",
    "Ha: Significant Difference in variances."
   ]
  },
  {
   "cell_type": "markdown",
   "metadata": {},
   "source": [
    "###### Step-2: Calculate the F value"
   ]
  },
  {
   "cell_type": "code",
   "execution_count": 20,
   "metadata": {},
   "outputs": [
    {
     "name": "stdout",
     "output_type": "stream",
     "text": [
      "fvalue: 4.0\n"
     ]
    }
   ],
   "source": [
    "import numpy as np\n",
    "\n",
    "set1 = [10,20,30,40,50]\n",
    "set2 = [5,10,15,20,25]\n",
    "\n",
    "#calcuate the variance\n",
    "var1=np.var(set1)\n",
    "var2=np.var(set2)\n",
    "\n",
    "#Calculate the f value\n",
    "F = var1/var2\n",
    "print(\"fvalue:\",F)"
   ]
  },
  {
   "cell_type": "markdown",
   "metadata": {},
   "source": [
    "###### Step-3: Calculate the degree of freedom"
   ]
  },
  {
   "cell_type": "code",
   "execution_count": 21,
   "metadata": {},
   "outputs": [
    {
     "name": "stdout",
     "output_type": "stream",
     "text": [
      "df1: 4\n",
      "df1: 4\n"
     ]
    }
   ],
   "source": [
    "df1 = 5-1\n",
    "print(\"df1:\",df1)\n",
    "\n",
    "df2 = 5-1\n",
    "print(\"df1:\",df2)"
   ]
  },
  {
   "cell_type": "markdown",
   "metadata": {},
   "source": [
    "###### Step-4:Choose the significance level"
   ]
  },
  {
   "cell_type": "markdown",
   "metadata": {},
   "source": [
    "Assume the level of significance is 5%. For two tailed test the value will be halved.\n",
    "\n",
    "Hence,level of significance for two tailed test is 2.5%."
   ]
  },
  {
   "cell_type": "markdown",
   "metadata": {},
   "source": [
    "###### Step-5:Find F critical value from F distribution table"
   ]
  },
  {
   "cell_type": "markdown",
   "metadata": {},
   "source": [
    "From the table of F distribution, the critical value of F for 0.025 significance and degrees of freedom of(df1 = 4 and df2 = 4) is:\n",
    "\n",
    "Fc = 9.60"
   ]
  },
  {
   "cell_type": "markdown",
   "metadata": {},
   "source": [
    "###### Step-6:Conclusion"
   ]
  },
  {
   "cell_type": "markdown",
   "metadata": {},
   "source": [
    "Since the calculated(absolute value) of F is less than the critical value, we fail to reject the null hypothesis and conclude that there is no significant difference in variance."
   ]
  }
 ],
 "metadata": {
  "kernelspec": {
   "display_name": "Python 3",
   "language": "python",
   "name": "python3"
  },
  "language_info": {
   "codemirror_mode": {
    "name": "ipython",
    "version": 3
   },
   "file_extension": ".py",
   "mimetype": "text/x-python",
   "name": "python",
   "nbconvert_exporter": "python",
   "pygments_lexer": "ipython3",
   "version": "3.6.8"
  }
 },
 "nbformat": 4,
 "nbformat_minor": 2
}
